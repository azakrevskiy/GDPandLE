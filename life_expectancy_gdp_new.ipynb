{
 "cells": [
  {
   "cell_type": "code",
   "execution_count": null,
   "metadata": {},
   "outputs": [],
   "source": [
    "Project Name: GDP and Life expectancy.\n",
    "\n",
    "In this project we will try to answer the main question: Is there a correlation between GDP and life expectancy of a country?\n",
    "\n",
    "First we have to import and take a look at the data provided. Then we have to determine if all data is in a good shape or if it is necessary \n",
    "to do some cleaning or modifications. Next step is data visualisations like charts, plots, etc..  \n",
    "\n",
    " During this project we will try to answer the questions as follows:\n",
    "\n",
    "1) How has life expectancy changed over time in all six countries?\n",
    "2) How has GDP changed over time in all six countries?\n",
    "3) What is the average life expectancy in these nations?\n",
    "4) What does the distribution of that life expectancy look like for all given countries?\n",
    "\n",
    "  And the main two questions:\n",
    "\n",
    "5) Is there a correlation between GDP and life expectancy of a country?\n",
    "6) Do we have life expectancy increase(decrease) every time GDP is increasing(decreasing)?\n",
    "\n",
    "Data Providers: World Bank national accounts data, and World Health Organization."
   ]
  }
 ],
 "metadata": {
  "kernelspec": {
   "display_name": "Python [conda env:base] *",
   "language": "python",
   "name": "conda-base-py"
  },
  "language_info": {
   "codemirror_mode": {
    "name": "ipython",
    "version": 3
   },
   "file_extension": ".py",
   "mimetype": "text/x-python",
   "name": "python",
   "nbconvert_exporter": "python",
   "pygments_lexer": "ipython3",
   "version": "3.12.7"
  }
 },
 "nbformat": 4,
 "nbformat_minor": 4
}
